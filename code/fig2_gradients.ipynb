{
 "cells": [
  {
   "cell_type": "markdown",
   "metadata": {},
   "source": [
    "Song, Shim, Rosenberg (2022) Large-scale neural dynamics in a shared low-dimensional state space reflect cognitive and attentional dynamics<br>\n",
    "code created by: Hayoung Song (hyssong@uchicago.edu), March 27, 2022<br>\n",
    "\n",
    "The code generates **Figure 2** of the paper"
   ]
  },
  {
   "cell_type": "code",
   "execution_count": 1,
   "metadata": {},
   "outputs": [
    {
     "name": "stderr",
     "output_type": "stream",
     "text": [
      "/Users/hayoungsong/anaconda3/lib/python3.7/site-packages/statsmodels/tools/_testing.py:19: FutureWarning: pandas.util.testing is deprecated. Use the functions in the public API at pandas.testing instead.\n",
      "  import pandas.util.testing as tm\n"
     ]
    }
   ],
   "source": [
    "import numpy as np\n",
    "import scipy.io\n",
    "import matplotlib.pyplot as plt\n",
    "from matplotlib.colors import ListedColormap\n",
    "import scipy.stats\n",
    "import pandas as pd\n",
    "import seaborn as sns\n",
    "from sklearn.decomposition import PCA\n",
    "import random\n",
    "from statsmodels.stats.multitest import fdrcorrection\n",
    "random.seed(1)"
   ]
  },
  {
   "cell_type": "code",
   "execution_count": 2,
   "metadata": {},
   "outputs": [],
   "source": [
    "nsubj=27\n",
    "nstate = 4\n",
    "nROI = 25\n",
    "loaddir='../'\n",
    "condition=['rest1','rest2','gradCPTface','gradCPTscene','sitcomep1','sitcomep2','documentary']\n",
    "cmap = np.array([[219 / 255, 68 / 255, 55 / 255, 1],\n",
    "    [57 / 255, 0 / 255, 216 / 255, 1],\n",
    "    [15 / 255, 157 / 255, 88 / 255, 1],\n",
    "    [255 / 255, 215 / 255, 0 / 255, 1]])\n",
    "statename = ['DMN','DAN','SM','base']"
   ]
  },
  {
   "cell_type": "markdown",
   "metadata": {},
   "source": [
    "## Load gradient coefficients\n",
    "Top-5 gradient values of cortical and subcortical voxels are downloaded from a repository. (Margulies et al., 2016; https://identifiers.org/neurovault.collection:1598) <br>\n",
    "Applying 25 parcel mask, gradient values of every voxel within each parcel are averaged. <br>\n",
    "Mean gradient values of 25 parcels are termed \"gradient coefficients\"."
   ]
  },
  {
   "cell_type": "code",
   "execution_count": 3,
   "metadata": {},
   "outputs": [
    {
     "name": "stdout",
     "output_type": "stream",
     "text": [
      "gradient coefficients: 25 parcel, 5 components\n"
     ]
    }
   ],
   "source": [
    "gradientcoeff = scipy.io.loadmat(loaddir+'fmri/gradientcoeff.mat')['gradientcoeff']\n",
    "print('gradient coefficients: '+str(gradientcoeff.shape[0])+' parcel, '+str(gradientcoeff.shape[1])+' components')"
   ]
  },
  {
   "cell_type": "markdown",
   "metadata": {},
   "source": [
    "## Situate latent states onto the gradient space (Figure 2b)"
   ]
  },
  {
   "cell_type": "code",
   "execution_count": 4,
   "metadata": {},
   "outputs": [
    {
     "data": {
      "image/png": "[encoded data removed]",
      "text/plain": [
       "<Figure size 432x288 with 1 Axes>"
      ]
     },
     "metadata": {
      "needs_background": "light"
     },
     "output_type": "display_data"
    }
   ],
   "source": [
    "# Load mean activity patterns of 25 parcels inferred from the HMM fit\n",
    "Means = scipy.io.loadmat(loaddir+'fmri/hmmmodel.mat')['Means']\n",
    "# 4 latent state * 25 ROI mean activity patterns\n",
    "\n",
    "# mean element-wise product of the HMM-inferred mean activity patterns and gradient coefficients\n",
    "fig = plt.figure()\n",
    "ax = fig.add_subplot(111)\n",
    "for stt in range(nstate):\n",
    "    plt.scatter(np.mean(np.multiply(Means[stt,:], gradientcoeff[:,1]))*(-1), \n",
    "                np.mean(np.multiply(Means[stt,:], gradientcoeff[:,0])),\n",
    "                s=100,c=cmap[stt,:].reshape(1,-1))\n",
    "ax.set_aspect(1.0/ax.get_data_ratio(), adjustable='box')\n",
    "ax.set_xlim([-0.12,0.12])\n",
    "ax.set_ylim([-1,1])\n",
    "ax.set_xticks([-0.1,0,0.1])\n",
    "ax.set_yticks([-1,-0.5,0,0.5,1])\n",
    "ax.set_ylabel('Gradient 1')\n",
    "ax.set_xlabel('Gradient 2')\n",
    "plt.show()"
   ]
  },
  {
   "cell_type": "markdown",
   "metadata": {},
   "source": [
    "## Compare gradient & PC coefficients (Figure 2c)"
   ]
  },
  {
   "cell_type": "code",
   "execution_count": 5,
   "metadata": {},
   "outputs": [
    {
     "name": "stdout",
     "output_type": "stream",
     "text": [
      "concatenated time series: 170936 x 25\n"
     ]
    }
   ],
   "source": [
    "concatts = []\n",
    "for cdt in condition:\n",
    "    # Load time series\n",
    "    ts = scipy.io.loadmat(loaddir+'fmri/ts_'+cdt+'.mat')['ts']\n",
    "\n",
    "    for subj in range(nsubj):\n",
    "        if cdt=='sitcomep1' and subj==25:\n",
    "            pass\n",
    "        else:\n",
    "            # z-normalize across time\n",
    "            ts_subj = scipy.stats.zscore(ts[subj,:,:], axis=0, ddof=1)\n",
    "            if len(concatts)==0:\n",
    "                concatts = ts_subj\n",
    "            else:\n",
    "                # concatenate all participants' all fMRI run time series\n",
    "                concatts = np.concatenate((concatts, ts_subj),0)\n",
    "print('concatenated time series: '+str(concatts.shape[0])+' x '+str(concatts.shape[1]))"
   ]
  },
  {
   "cell_type": "code",
   "execution_count": 6,
   "metadata": {},
   "outputs": [
    {
     "name": "stdout",
     "output_type": "stream",
     "text": [
      "grad1 - PC1: r = 0.896\n",
      "grad2 - PC2: r = 0.672\n",
      "grad3 - PC3: r = 0.696\n",
      "grad4 - PC4: r = 0.815\n",
      "grad5 - PC5: r = 0.05\n"
     ]
    }
   ],
   "source": [
    "# Conduct PCA on the z-normalized, concatenated time series\n",
    "ncomp = 5\n",
    "pca = PCA(n_components=ncomp)\n",
    "score = pca.fit_transform(concatts)\n",
    "coeff = pca.components_\n",
    "\n",
    "# Pearson's correlation between gradient coefficients and PC coefficients\n",
    "for comp in range(ncomp):\n",
    "    print('grad'+str(comp+1)+' - PC'+str(comp+1)+': r = '+str(np.round(np.abs(np.corrcoef(gradientcoeff[:,comp], coeff[comp,:])[0,1]),3)))"
   ]
  },
  {
   "cell_type": "markdown",
   "metadata": {},
   "source": [
    "## Explained variance (Figure 2d)"
   ]
  },
  {
   "cell_type": "code",
   "execution_count": 7,
   "metadata": {},
   "outputs": [],
   "source": [
    "grad_expvar, pc_expvar = [], []\n",
    "for cdt in condition:\n",
    "    # Load time series\n",
    "    ts = scipy.io.loadmat(loaddir+'fmri/ts_'+cdt+'.mat')['ts']\n",
    "    for subj in range(nsubj):\n",
    "        if cdt=='sitcomep1' and subj==25:\n",
    "            pass\n",
    "        else:\n",
    "            # z-normalize across time\n",
    "            ts_subj = scipy.stats.zscore(ts[subj,:,:], axis=0, ddof=1)\n",
    "            \n",
    "            # time course projected onto gradient 5D space\n",
    "            grad = []\n",
    "            for t in range(ts_subj.shape[0]):\n",
    "                grad.append([np.mean(np.multiply(ts_subj[t,:], gradientcoeff[:,0])),\n",
    "                             np.mean(np.multiply(ts_subj[t,:], gradientcoeff[:,1])),\n",
    "                             np.mean(np.multiply(ts_subj[t,:], gradientcoeff[:,2])),\n",
    "                             np.mean(np.multiply(ts_subj[t,:], gradientcoeff[:,3])),\n",
    "                             np.mean(np.multiply(ts_subj[t,:], gradientcoeff[:,4]))])\n",
    "            grad = np.array(grad)\n",
    "            \n",
    "            # time course projected onto PC 5D space\n",
    "            score = pca.transform(ts_subj)\n",
    "            \n",
    "            # r-sq between 25 ROI fMRI ts and gradient/pc ts\n",
    "            grad_rsq, pc_rsq = np.zeros((nROI, ncomp)), np.zeros((nROI, ncomp))\n",
    "            for comp in range(ncomp):\n",
    "                for net in range(nROI):\n",
    "                    pc_rsq[net, comp] = np.square(np.corrcoef(ts_subj[:,net], score[:,comp])[0,1])\n",
    "                    grad_rsq[net, comp] = np.square(np.corrcoef(ts_subj[:,net], grad[:,comp])[0,1])\n",
    "            grad_expvar.append(np.mean(grad_rsq,0))\n",
    "            pc_expvar.append(np.mean(pc_rsq,0))\n",
    "pc_expvar, grad_expvar = np.array(pc_expvar), np.array(grad_expvar)"
   ]
  },
  {
   "cell_type": "code",
   "execution_count": 8,
   "metadata": {},
   "outputs": [
    {
     "name": "stdout",
     "output_type": "stream",
     "text": [
      "PC: [0.17660356 0.12385367 0.11615556 0.09095416 0.07739281]\n",
      "Gradient: [0.16901735 0.10952305 0.11179565 0.0986039  0.09269885]\n",
      "Diff: [ 0.00758621  0.01433063  0.00435992 -0.00764974 -0.01530605]\n"
     ]
    },
    {
     "data": {
      "image/png": "[encoded data removed]",
      "text/plain": [
       "<Figure size 432x288 with 1 Axes>"
      ]
     },
     "metadata": {
      "needs_background": "light"
     },
     "output_type": "display_data"
    }
   ],
   "source": [
    "# bar graph of top-5 components' explained variances\n",
    "print('PC: '+str(np.mean(pc_expvar,0)))\n",
    "print('Gradient: '+str(np.mean(grad_expvar,0)))\n",
    "print('Diff: '+str(np.mean(pc_expvar,0)-np.mean(grad_expvar,0)))\n",
    "plt.bar(np.arange(ncomp)-0.15, np.mean(pc_expvar,0), color = [0.2,0.2,0.2,1], width = 0.25)\n",
    "plt.bar(np.arange(ncomp)+0.15, np.mean(grad_expvar,0), color = [0.5,0.5,0.5,1], width = 0.25)\n",
    "plt.ylim([0,0.2])\n",
    "plt.yticks([0,0.1,0.2])\n",
    "plt.ylabel('explained variance (r-sq)')\n",
    "plt.xlabel('top-5 components')\n",
    "plt.legend({'PC','gradient'})\n",
    "plt.show()"
   ]
  },
  {
   "cell_type": "code",
   "execution_count": 9,
   "metadata": {},
   "outputs": [
    {
     "name": "stdout",
     "output_type": "stream",
     "text": [
      "component 1: t(187)=12.862, FDR-p=0.0\n",
      "component 2: t(187)=12.99, FDR-p=0.0\n",
      "component 3: t(187)=3.022, FDR-p=0.0029\n",
      "component 4: t(187)=-6.631, FDR-p=0.0\n",
      "component 5: t(187)=-8.136, FDR-p=0.0\n"
     ]
    }
   ],
   "source": [
    "# Paired t-tests between explained variances of the PC and gradient components\n",
    "pvals = []\n",
    "for comp in range(ncomp):\n",
    "    pvals.append(scipy.stats.ttest_rel(pc_expvar[:,comp], grad_expvar[:,comp])[1])\n",
    "\n",
    "# FDR-correction for number of comparisons (5 components)\n",
    "qvals = fdrcorrection(np.array(pvals))[1]\n",
    "\n",
    "for comp in range(ncomp):\n",
    "    print('component '+str(comp+1)+': t('+str(pc_expvar.shape[0]-1)+')='+\n",
    "          str(np.round(scipy.stats.ttest_rel(pc_expvar[:,comp], grad_expvar[:,comp])[0],3))+\n",
    "      ', FDR-p='+str(np.round(qvals[comp],4)))"
   ]
  }
 ],
 "metadata": {
  "kernelspec": {
   "display_name": "Python 3",
   "language": "python",
   "name": "python3"
  },
  "language_info": {
   "codemirror_mode": {
    "name": "ipython",
    "version": 3
   },
   "file_extension": ".py",
   "mimetype": "text/x-python",
   "name": "python",
   "nbconvert_exporter": "python",
   "pygments_lexer": "ipython3",
   "version": "3.7.3"
  }
 },
 "nbformat": 4,
 "nbformat_minor": 2
}
